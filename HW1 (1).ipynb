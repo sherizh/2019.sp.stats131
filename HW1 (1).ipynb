{
 "cells": [
  {
   "cell_type": "markdown",
   "metadata": {},
   "source": [
    "# Homework 1"
   ]
  },
  {
   "cell_type": "markdown",
   "metadata": {},
   "source": [
    "Feel free to use whatever methods and functions you want to complete each task.\n",
    "The only requirement is that it has to be done in Python 3.\n",
    "Although it is not necessary, you are allowed to import additionaly libraries if you want."
   ]
  },
  {
   "cell_type": "markdown",
   "metadata": {},
   "source": [
    "## Problem 1: [10 pts]\n",
    "\n",
    "Define a function called `replace_symbol()`. It will accept three arguments: a string of text, character a and character b. The function will go through the provided string and replace all instances of character a with character b."
   ]
  },
  {
   "cell_type": "code",
   "execution_count": null,
   "metadata": {},
   "outputs": [],
   "source": [
    "# write your code here\n",
    "def replace_symbol(text, chara, charb):\n",
    
    l = []
    for char in text:
        if char == chara:
            l.append(charb)
        else:
            l.append(char)
    
    return ''.join(l)
    "\n",
    "# pass is just a placeholder function so that the function definition does not produce an error"
   ]
  },
  {
   "cell_type": "code",
   "execution_count": null,
   "metadata": {},
   "outputs": [],
   "source": [
    "# do not modify. We will check this result for grading\n",
    "# test case 1: should return: '310-794-7137'\n",
    "replace_symbol(\"310 794 7137\", \" \",\"-\")"
   ]
  },
  {
   "cell_type": "code",
   "execution_count": null,
   "metadata": {},
   "outputs": [],
   "source": [
    "# do not modify. We will check this result for grading\n",
    "# test case 2: should return 'happy*go*lucky'\n",
    "replace_symbol(\"happy-go-lucky\",\"-\",\"*\" )"
   ]
  },
  {
   "cell_type": "markdown",
   "metadata": {},
   "source": [
    "## Problem 2:  [10 pts]\n",
    "\n",
    "Define a function called `insert_into(listname, index, iterable)`.\n",
    "It will accept three arguments, a currently existing list, an index, and another list/tuple that will be inserted at the index position.\n",
    "\n",
    "Python's built-in function, `list.insert()` can only insert one object."
   ]
  },
  {
   "cell_type": "code",
   "execution_count": null,
   "metadata": {},
   "outputs": [],
   "source": [
    "# write your code here\n",
    "def insert_into(listname, index, iterable):\n",
    l = []
    for i in range(len(listname)):
        if i == index:
            l.extend(iterable)
            l.append(listname[i])
        else:
            l.append(listname[i])
    return l
   ]
  },
  {
   "cell_type": "code",
   "execution_count": null,
   "metadata": {},
   "outputs": [],
   "source": [
    "# do not modify. We will check this result for grading\n",
    "l = [0,'a','b','c',4,5,6]\n",
    "i = ['hello', 'there']\n",
    "insert_into(l, 3, i)"
   ]
  },
  {
   "cell_type": "markdown",
   "metadata": {},
   "source": [
    "## Problem 3:  [10 pts]\n",
    "\n",
    "Define a function called `first_equals_last(listname)`\n",
    "\n",
    "It will accept a list as an argument. It will return True if the first and last elements are equal and the if the list has a length greater than 1."
   ]
  },
  {
   "cell_type": "code",
   "execution_count": null,
   "metadata": {},
   "outputs": [],
   "source": [
    "# write your code here\n",
    "def first_equals_last(listname):\n",
    
    if len(listname) > 1:
        for i in range(len(listname)//2):
            if listname[i-1] == listname[-i]:
                return True
            else:
                return False
   ]
  },
  {
   "cell_type": "code",
   "execution_count": null,
   "metadata": {},
   "outputs": [],
   "source": [
    "# do not modify. We will check this result for grading\n",
    "a = [1,2,3]\n",
    "first_equals_last(a)"
   ]
  },
  {
   "cell_type": "code",
   "execution_count": null,
   "metadata": {},
   "outputs": [],
   "source": [
    "# do not modify. We will check this result for grading\n",
    "b = ['hello','goodbye','hello']\n",
    "first_equals_last(b)"
   ]
  },
  {
   "cell_type": "code",
   "execution_count": null,
   "metadata": {},
   "outputs": [],
   "source": [
    "# do not modify. We will check this result for grading\n",
    "c  = [1,2,3,'1']\n",
    "first_equals_last(c)"
   ]
  },
  {
   "cell_type": "code",
   "execution_count": null,
   "metadata": {},
   "outputs": [],
   "source": [
    "# do not modify. We will check this result for grading\n",
    "d = [[1,2],[3,2],[1,2]]\n",
    "first_equals_last(d)"
   ]
  },
  {
   "cell_type": "markdown",
   "metadata": {},
   "source": [
    "## Problem 4:  [30 pts]"
   ]
  },
  {
   "cell_type": "markdown",
   "metadata": {},
   "source": [
    "I have provided the text of the children's book \"Green Eggs and Ham\" by Dr. Seuss\n",
    "\n",
    "Produce a dictionary called `d`. The key will be the unique words that appear in the text, and the value will be the frequency of the word.\n",
    "\n",
    "Ideas for how to do this with the functions we've learned:\n",
    "- split the string into a list (see str.split)\n",
    "- strip all punctutation from the words (see str.strip, you may need to use a loop to apply it to the list) ',.?!()\\\"\\'-'\n",
    "- iterate over each word in the list and construct your dictionary. For each word, check to see if the key already exists in the dictionary (see in keys() ) add 1 to the value, otherwise create a new key."
   ]
  },
  {
   "cell_type": "code",
   "execution_count": null,
   "metadata": {},
   "outputs": [],
   "source": [
    "# do not modify. You need this to do the problem\n",
    "geah = '''\n",
    "GREEN EGGS AND HAM\n",
    "I AM SAM. I AM SAM. SAM I AM.\n",
    "THAT SAM I AM! THAT SAM I AM! I DO NOT LIKE THAT SAM I AM!\n",
    "DO WOULD YOU LIKE GREEN EGGS AND HAM?\n",
    "I DO NOT LIKE THEM, SAM I AM. I DO NOT LIKE GREEN EGGS AND HAM.\n",
    "WOULD YOU LIKE THEM HERE OR THERE?\n",
    "I WOULD NOT LIKE THEM HERE OR THERE. I WOULD NOT LIKE THEM ANYWHERE. I DO NOT LIKE GREEN EGGS AND HAM. I DO NOT LIKE THEM, SAM I AM.\n",
    "WOULD YOU LIKE THEM IN A HOUSE? WOULD YOU LIKE THEN WITH A MOUSE?\n",
    "I DO NOT LIKE THEM IN A HOUSE. I DO NOT LIKE THEM WITH A MOUSE. I DO NOT LIKE THEM HERE OR THERE. I DO NOT LIKE THEM ANYWHERE. I DO NOT LIKE GREEN EGGS AND HAM. I DO NOT LIKE THEM, SAM I AM.\n",
    "WOULD YOU EAT THEM IN A BOX? WOULD YOU EAT THEM WITH A FOX?\n",
    "NOT IN A BOX. NOT WITH A FOX. NOT IN A HOUSE. NOT WITH A MOUSE. I WOULD NOT EAT THEM HERE OR THERE. I WOULD NOT EAT THEM ANYWHERE. I WOULD NOT EAT GREEN EGGS AND HAM. I DO NOT LIKE THEM, SAM I AM.\n",
    "WOULD YOU? COULD YOU? IN A CAR? EAT THEM! EAT THEM! HERE THEY ARE.\n",
    "I WOULD NOT, COULD NOT, IN A CAR. \n",
    "YOU MAY LIKE THEM. YOU WILL SEE. YOU MAY LIKE THEM IN A TREE!\n",
    "I WOULD NOT, COULD NOT IN A TREE. NOT IN A CAR! YOU LET ME BE. I DO NOT LIKE THEM IN A BOX. I DO NOT LIKE THEM WITH A FOX. I DO NOT LIKE THEM IN A HOUSE. I DO NOT LIKE THEM WITH A MOUSE. I DO NOT LIKE THEM HERE OR THERE. I DO NOT LIKE THEM ANYWHERE. I DO NOT LIKE GREEN EGGS AND HAM. I DO NOT LIKE THEM, SAM I AM.\n",
    "A TRAIN! A TRAIN! A TRAIN! A TRAIN! COULD YOU, WOULD YOU ON A TRAIN?\n",
    "NOT ON TRAIN! NOT IN A TREE! NOT IN A CAR! SAM! LET ME BE! I WOULD NOT, COULD NOT, IN A BOX. I WOULD NOT, COULD NOT, WITH A FOX. I WILL NOT EAT THEM IN A HOUSE. I WILL NOT EAT THEM HERE OR THERE. I WILL NOT EAT THEM ANYWHERE. I DO NOT EAT GREEN EGGS AND HAM. I DO NOT LIKE THEM, SAM I AM.\n",
    "SAY! IN THE DARK? HERE IN THE DARK! WOULD YOU, COULD YOU, IN THE DARK?\n",
    "I WOULD NOT, COULD NOT, IN THE DARK.\n",
    "WOULD YOU COULD YOU IN THE RAIN?\n",
    "I WOULD NOT, COULD NOT IN THE RAIN. NOT IN THE DARK. NOT ON A TRAIN. NOT IN A CAR. NOT IN A TREE. I DO NOT LIKE THEM, SAM, YOU SEE. NOT IN A HOUSE. NOT IN A BOX. NOT WITH A MOUSE. NOT WITH A FOX. I WILL NOT EAT THEM HERE OR THERE. I DO NOT LIKE THEM ANYWHERE!\n",
    "YOU DO NOT LIKE GREEN EGGS AND HAM?\n",
    "I DO NOT LIKE THEM, SAM I AM.\n",
    "COULD YOU, WOULD YOU, WITH A GOAT?\n",
    "I WOULD NOT, COULD NOT WITH A GOAT!\n",
    "WOULD YOU, COULD YOU, ON A BOAT?\n",
    "I COULD NOT, WOULD NOT, ON A BOAT. I WILL NOT, WILL NOT, WITH A GOAT. I WILL NOT EAT THEM IN THE RAIN. NOT IN THE DARK! NOT IN A TREE! NOT IN A CAR! YOU LET ME BE! I DO NOT LIKE THEM IN A BOX. I DO NOT LIKE THEM WITH A FOX. I WILL NOT EAT THEM IN A HOUSE. I DO NOT LIKE THEM WITH A MOUSE. I DO NOT LIKE THEM HERE OR THERE. I DO NOT LIKE THEM ANYWHERE! I DO NOT LIKE GREEN EGGS AND HAM! I DO NOT LIKE THEM, SAM I AM.\n",
    "YOU DO NOT LIKE THEM. SO YOU SAY. TRY THEM! TRY THEM! AND YOU MAY. TRY THEM AND YOU MAY, I SAY.\n",
    "SAM! IF YOU LET ME BE, I WILL TRY THEM. YOU WILL SEE.\n",
    "SAY! I LIKE GREEN EGGS AND HAM! I DO! I LIKE THEM, SAM I AM! AND I WOULD EAT THEM IN A BOAT. AND I WOULD EAT THEM WITH A GOAT. AND I WILL EAT THEM, IN THE RAIN. AND IN THE DARK. AND ON A TRAIN. AND IN A CAR. AND IN A TREE. THEY ARE SO GOOD, SO GOOD, YOU SEE! SO I WILL EAT THEM IN A BOX. AND I WILL EAT THEM WITH A FOX. AND I WILL EAT THEM IN A HOUSE. AND I WILL EAT THEM WITH A MOUSE. AND I WILL EAT THEM HERE AND THERE. SAY! I WILL EAT THEM ANYWHERE! I DO SO LIKE GREEN EGGS AND HAM! THANK YOU! THANK YOU, SAM I AM.\n",
    "'''"
   ]
  },
  {
   "cell_type": "code",
   "execution_count": null,
   "metadata": {},
   "outputs": [],
   "source": [
    "# write your code here\n"
   ]
  },
  {
   "cell_type": "code",
   "execution_count": null,
   "metadata": {},
   "outputs": [],
   "source": [
    "d['GREEN']  # do not modify. We will check this result for grading"
   ]
  },
  {
   "cell_type": "code",
   "execution_count": null,
   "metadata": {},
   "outputs": [],
   "source": [
    "d['AND']   # do not modify. We will check this result for grading"
   ]
  },
  {
   "cell_type": "code",
   "execution_count": null,
   "metadata": {},
   "outputs": [],
   "source": [
    "d['I']    # do not modify. We will check this result for grading"
   ]
  },
  {
   "cell_type": "code",
   "execution_count": null,
   "metadata": {},
   "outputs": [],
   "source": [
    "d['NOT']  # do not modify. We will check this result for grading"
   ]
  },
  {
   "cell_type": "code",
   "execution_count": null,
   "metadata": {},
   "outputs": [],
   "source": [
    "d['A'] # do not modify. We will check this result for grading"
   ]
  },
  {
   "cell_type": "code",
   "execution_count": null,
   "metadata": {},
   "outputs": [],
   "source": [
    "d['MOUSE'] # do not modify. We will check this result for grading"
   ]
  },
  {
   "cell_type": "markdown",
   "metadata": {},
   "source": [
    "# Problem 5:  [40 pts]\n",
    "\n",
    "Write a silly 'guess the number' program. In this program, the computer will be doing the 'guessing'\n",
    "\n",
    "- In this silly game, you will specify an arbitrary integer between 1 and 100.\n",
    "    - If x is not an integer or outside the range, the program should quit.\n",
    "- With a proper x specified, the computer will then try to guess the number.\n",
    "- Each turn will print the turn number. Then the program will print \"Computer guesses: [number]\"\n",
    "- After it guesses, the computer will \"learn\" whether your 'secret' number is larger or smaller than its guess. The program will print \"Your number is [larger/smaller] than [guess]\"\n",
    "- It will guess another number. Again it will learn if your 'secret' number is larger or smaller, and so on until the computer correctly guesses your real number.\n",
    "- When it correctly guesses the number, it will print \"Your number is [number]! The game has ended.\" The function will return the guess as the result.\n",
    "\n",
    "The game should have enough 'strategy' to guess any number correctly in 7 tries or fewer."
   ]
  },
  {
   "cell_type": "markdown",
   "metadata": {},
   "source": [
    "Sample Output for when 32 is the input. You don't have to follow the exact same guess order. You just need to get it right within 7 turns.\n",
    "\n",
    "```\n",
    "Turn 1\n",
    "Computer guesses: 50\n",
    "Your number is smaller than 50\n",
    "Turn 2\n",
    "Computer guesses: 25\n",
    "Your number is larger than 25\n",
    "Turn 3\n",
    "Computer guesses: 37\n",
    "Your number is smaller than 37\n",
    "Turn 4\n",
    "Computer guesses: 31\n",
    "Your number is larger than 31\n",
    "Turn 5\n",
    "Computer guesses: 34\n",
    "Your number is smaller than 34\n",
    "Turn 6\n",
    "Computer guesses: 33\n",
    "Your number is smaller than 33\n",
    "Turn 7\n",
    "Computer guesses: 32\n",
    "Your number is 32! The game has ended.\n",
    "```"
   ]
  },
  {
   "cell_type": "markdown",
   "metadata": {},
   "source": [
    "More sample output\n",
    "```\n",
    "Turn 1\n",
    "Computer guesses: 50\n",
    "Your number is larger than 50\n",
    "Turn 2\n",
    "Computer guesses: 75\n",
    "Your number is larger than 75\n",
    "Turn 3\n",
    "Computer guesses: 87\n",
    "Your number is larger than 87\n",
    "Turn 4\n",
    "Computer guesses: 93\n",
    "Your number is 93! The game has ended.\n",
    "```"
   ]
  },
  {
   "cell_type": "code",
   "execution_count": null,
   "metadata": {},
   "outputs": [],
   "source": [
    "# write your code here\n",
    "def guess_game(x):\n",
    "    pass # replace pass with your code"
   ]
  },
  {
   "cell_type": "code",
   "execution_count": null,
   "metadata": {},
   "outputs": [],
   "source": [
    "# do not modify. We will check this result for grading\n",
    "# should print: \"x is outside the range 1-100\"\n",
    "guess_game(0)"
   ]
  },
  {
   "cell_type": "code",
   "execution_count": null,
   "metadata": {},
   "outputs": [],
   "source": [
    "# do not modify. We will check this result for grading\n",
    "# should print: \"x must be an integer\"\n",
    "guess_game(1.5)"
   ]
  },
  {
   "cell_type": "code",
   "execution_count": null,
   "metadata": {},
   "outputs": [],
   "source": [
    "guess_game(93) # do not modify. We will check this result for grading"
   ]
  },
  {
   "cell_type": "code",
   "execution_count": null,
   "metadata": {},
   "outputs": [],
   "source": [
    "guess_game(32) # do not modify. We will check this result for grading"
   ]
  },
  {
   "cell_type": "code",
   "execution_count": null,
   "metadata": {},
   "outputs": [],
   "source": [
    "guess_game(99) # do not modify. We will check this result for grading"
   ]
  }
 ],
 "metadata": {
  "kernelspec": {
   "display_name": "Python 3",
   "language": "python",
   "name": "python3"
  },
  "language_info": {
   "codemirror_mode": {
    "name": "ipython",
    "version": 3
   },
   "file_extension": ".py",
   "mimetype": "text/x-python",
   "name": "python",
   "nbconvert_exporter": "python",
   "pygments_lexer": "ipython3",
   "version": "3.6.8"
  }
 },
 "nbformat": 4,
 "nbformat_minor": 2
}
