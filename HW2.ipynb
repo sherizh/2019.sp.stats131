{
 "cells": [
  {
   "cell_type": "markdown",
   "metadata": {},
   "source": [
    "Be sure to print the desired output. You will not receive credit for problems that do not print the desired output.\n",
    "\n",
    "Many of these exercises will require the use of function in numpy that were not covered in class. You'll probably need to look up the documentation on how to use them. I always recommend checking the official docs at https://docs.scipy.org/doc/numpy/ before reading other sites"
   ]
  },
  {
   "cell_type": "code",
   "execution_count": 1,
   "metadata": {},
   "outputs": [],
   "source": [
    "import numpy as np\n",
    "np.random.seed(1)"
   ]
  },
  {
   "cell_type": "markdown",
   "metadata": {},
   "source": [
    "Exercise 0: (done for you as an example)\n",
    "\n",
    "Task: Make an array `a` with values 0 to 9\n",
    "\n",
    "Desired output: `[0 1 2 3 4 5 6 7 8 9]`"
   ]
  },
  {
   "cell_type": "code",
   "execution_count": 2,
   "metadata": {},
   "outputs": [
    {
     "name": "stdout",
     "output_type": "stream",
     "text": [
      "[0 1 2 3 4 5 6 7 8 9]\n"
     ]
    }
   ],
   "source": [
    "a = np.arange(10)\n",
    "print(a)"
   ]
  },
  {
   "cell_type": "markdown",
   "metadata": {},
   "source": [
    "Exercise 1:\n",
    "\n",
    "Task: Create an array `b` of 10 random integers selected between 0-99\n",
    "\n",
    "Desired output: `[37 12 72  9 75  5 79 64 16  1]` of course yours might be different"
   ]
  },
  {
   "cell_type": "code",
   "execution_count": null,
   "metadata": {},
   "outputs": [],
   "source": []
  },
  {
   "cell_type": "markdown",
   "metadata": {},
   "source": [
    "Exercise 2:\n",
    "\n",
    "Task: reverse the elements in `b`. Hint: Try slicing the array, but backwards\n",
    "\n",
    "Desired output: `[ 1 16 64 79  5 75  9 72 12 37]` yours will be different"
   ]
  },
  {
   "cell_type": "code",
   "execution_count": null,
   "metadata": {},
   "outputs": [],
   "source": []
  },
  {
   "cell_type": "markdown",
   "metadata": {},
   "source": [
    "Exercise 3:\n",
    "\n",
    "Task: Create an array `c` of 10 random values selected from a normal distribution centered at 100 with sd = 15, rounded to 1 decimal place.\n",
    "\n",
    "Desired output: `[ 92.1  83.9 113.   65.5 126.2  88.6 104.8  96.3 121.9  69.1]` of course your values may be different"
   ]
  },
  {
   "cell_type": "code",
   "execution_count": null,
   "metadata": {},
   "outputs": [],
   "source": []
  },
  {
   "cell_type": "markdown",
   "metadata": {},
   "source": [
    "Exercise 4:\n",
    "\n",
    "Task: sort all the values in c from least to greatest.\n",
    "\n",
    "Desired output: `[ 65.5  69.1  83.9  88.6  92.1  96.3 104.8 113.  121.9 126.2]`"
   ]
  },
  {
   "cell_type": "code",
   "execution_count": null,
   "metadata": {},
   "outputs": [],
   "source": []
  },
  {
   "cell_type": "markdown",
   "metadata": {},
   "source": [
    "Exercise 5:\n",
    "\n",
    "Task: Reshape `c` so that it is a  2 x 5 array. Save the result as `d`\n",
    "\n",
    "Desired output: \n",
    "\n",
    "`[[ 65.5  69.1  83.9  88.6  92.1]\n",
    " [ 96.3 104.8 113.  121.9 126.2]]`"
   ]
  },
  {
   "cell_type": "code",
   "execution_count": null,
   "metadata": {},
   "outputs": [],
   "source": []
  },
  {
   "cell_type": "markdown",
   "metadata": {},
   "source": [
    "Exercise 6:\n",
    "\n",
    "Task: Return the row sum and column sums of `d`\n",
    "\n",
    "Desired output: \n",
    "\n",
    "`[399.2 562.2]\n",
    "[161.8 173.9 196.9 210.5 218.3]`"
   ]
  },
  {
   "cell_type": "code",
   "execution_count": null,
   "metadata": {},
   "outputs": [],
   "source": []
  },
  {
   "cell_type": "markdown",
   "metadata": {},
   "source": [
    "Exercise 7:\n",
    "\n",
    "Task: Make a 3x3 identity matrix called `I3`\n",
    "\n",
    "Desired output: \n",
    "\n",
    "`[[1. 0. 0.]\n",
    " [0. 1. 0.]\n",
    " [0. 0. 1.]]`"
   ]
  },
  {
   "cell_type": "code",
   "execution_count": null,
   "metadata": {},
   "outputs": [],
   "source": []
  },
  {
   "cell_type": "markdown",
   "metadata": {},
   "source": [
    "Exercise 8:\n",
    "\n",
    "Task: Make a 10x10 array of values 1 to 100. Call it X\n",
    "\n",
    "Desired output: \n",
    "\n",
    "`[[  1   2   3   4   5   6   7   8   9  10]\n",
    " [ 11  12  13  14  15  16  17  18  19  20]\n",
    " [ 21  22  23  24  25  26  27  28  29  30]\n",
    " [ 31  32  33  34  35  36  37  38  39  40]\n",
    " [ 41  42  43  44  45  46  47  48  49  50]\n",
    " [ 51  52  53  54  55  56  57  58  59  60]\n",
    " [ 61  62  63  64  65  66  67  68  69  70]\n",
    " [ 71  72  73  74  75  76  77  78  79  80]\n",
    " [ 81  82  83  84  85  86  87  88  89  90]\n",
    " [ 91  92  93  94  95  96  97  98  99 100]]`"
   ]
  },
  {
   "cell_type": "code",
   "execution_count": null,
   "metadata": {},
   "outputs": [],
   "source": []
  },
  {
   "cell_type": "markdown",
   "metadata": {},
   "source": [
    "Exercise 9:\n",
    "\n",
    "Task: Make a copy of X, call it Y (1 line). Replace all values in Y that are not squares with 0 (1 line). see `numpy.isin()`\n",
    "\n",
    "Desired output: \n",
    "\n",
    "`[[  1   0   0   4   0   0   0   0   9   0]\n",
    " [  0   0   0   0   0  16   0   0   0   0]\n",
    " [  0   0   0   0  25   0   0   0   0   0]\n",
    " [  0   0   0   0   0  36   0   0   0   0]\n",
    " [  0   0   0   0   0   0   0   0  49   0]\n",
    " [  0   0   0   0   0   0   0   0   0   0]\n",
    " [  0   0   0  64   0   0   0   0   0   0]\n",
    " [  0   0   0   0   0   0   0   0   0   0]\n",
    " [ 81   0   0   0   0   0   0   0   0   0]\n",
    " [  0   0   0   0   0   0   0   0   0 100]]`"
   ]
  },
  {
   "cell_type": "code",
   "execution_count": null,
   "metadata": {},
   "outputs": [],
   "source": []
  },
  {
   "cell_type": "markdown",
   "metadata": {},
   "source": [
    "Exercise 10:\n",
    "\n",
    "Task: Tile a 2x2 diagonal matrix of integers to make a checkerboard pattern. Call the matrix `check`\n",
    "\n",
    "Desired output: \n",
    "\n",
    "`[[1 0 1 0 1 0 1 0]\n",
    " [0 1 0 1 0 1 0 1]\n",
    " [1 0 1 0 1 0 1 0]\n",
    " [0 1 0 1 0 1 0 1]\n",
    " [1 0 1 0 1 0 1 0]\n",
    " [0 1 0 1 0 1 0 1]\n",
    " [1 0 1 0 1 0 1 0]\n",
    " [0 1 0 1 0 1 0 1]]`"
   ]
  },
  {
   "cell_type": "code",
   "execution_count": null,
   "metadata": {},
   "outputs": [],
   "source": []
  },
  {
   "cell_type": "markdown",
   "metadata": {},
   "source": [
    "Exercise 11:\n",
    "\n",
    "Task: convert the values in `f_temp` from Farenheit to celsius. The conversion is subtract 32, then multiply by 5/9. Round to 1 decimal place.\n",
    "\n",
    "Desired output: \n",
    "\n",
    "`[[21.1 21.7 22.2 22.8 23.3 23.9]\n",
    " [24.4 25.  25.6 26.1 26.7 27.2]\n",
    " [27.8 28.3 28.9 29.4 30.  30.6]\n",
    " [31.1 31.7 32.2 32.8 33.3 33.9]\n",
    " [34.4 35.  35.6 36.1 36.7 37.2]]\n",
    "`"
   ]
  },
  {
   "cell_type": "code",
   "execution_count": 3,
   "metadata": {},
   "outputs": [],
   "source": [
    "# do not modify\n",
    "f_temp  = np.arange(70,100).reshape((5,6))"
   ]
  },
  {
   "cell_type": "markdown",
   "metadata": {},
   "source": [
    "Exercise 12:\n",
    "\n",
    "Task: Convert values in the matrix `x` into z-scores by column, call it matrix `z`. That is: each column should have a mean of 0 and std of 1. (subtract the column mean, and divide by the column std). (not required, but see if you can do this in one line)\n",
    "\n",
    "Print the column means and column std to show that they have been standardized.\n",
    "\n",
    "Desired output: \n",
    "\n",
    "`[[-1.09996745 -0.47901666  0.8816739 ]\n",
    " [ 0.9495002   1.18844641  0.11324252]\n",
    " [-1.04808219  1.64320907  0.27501755]\n",
    " [ 1.23486912  0.40019114  0.84123014]\n",
    " [ 1.23486912 -0.78219177 -0.45297008]\n",
    " [-0.68488539 -0.75187426  0.5985676 ]\n",
    " [ 0.19716398 -0.72155675 -1.46406399]\n",
    " [ 1.10515598  1.40066898 -1.74717029]\n",
    " [-0.60705751 -1.08536687 -0.57430135]\n",
    " [-1.28156585 -0.81250928  1.52877401]]`\n",
    " \n",
    " `[ 6.66133815e-17  1.11022302e-16 -1.11022302e-16]\n",
    "[1. 1. 1.]`"
   ]
  },
  {
   "cell_type": "code",
   "execution_count": 4,
   "metadata": {},
   "outputs": [],
   "source": [
    "# do not modify\n",
    "np.random.seed(100)\n",
    "x = np.random.randint(100,size = 30).reshape(10,3)"
   ]
  },
  {
   "cell_type": "code",
   "execution_count": null,
   "metadata": {},
   "outputs": [],
   "source": []
  },
  {
   "cell_type": "code",
   "execution_count": null,
   "metadata": {},
   "outputs": [],
   "source": []
  },
  {
   "cell_type": "markdown",
   "metadata": {},
   "source": [
    "Exercise 13:\n",
    "\n",
    "Task: Convert values in the matrix `x` into scaled values from 0 to 10. That is take each column and scale values linearly so that the largest value is 10, and the smallest value in the column is 0. Round results to 2 decimal places. Call the result `y`\n",
    "\n",
    "(Not required, but see if you can do the calculations in one line.)\n",
    "\n",
    "Desired output: \n",
    "\n",
    "`[[ 0.72  2.22  8.02]\n",
    " [ 8.87  8.33  5.68]\n",
    " [ 0.93 10.    6.17]\n",
    " [10.    5.44  7.9 ]\n",
    " [10.    1.11  3.95]\n",
    " [ 2.37  1.22  7.16]\n",
    " [ 5.88  1.33  0.86]\n",
    " [ 9.48  9.11  0.  ]\n",
    " [ 2.68  0.    3.58]\n",
    " [ 0.    1.   10.  ]]`"
   ]
  },
  {
   "cell_type": "code",
   "execution_count": 5,
   "metadata": {},
   "outputs": [],
   "source": [
    "# do not modify\n",
    "np.random.seed(100)\n",
    "x = np.random.randint(100,size = 30).reshape(10,3)"
   ]
  },
  {
   "cell_type": "code",
   "execution_count": null,
   "metadata": {},
   "outputs": [],
   "source": []
  },
  {
   "cell_type": "markdown",
   "metadata": {},
   "source": [
    "Exercise 14:\n",
    "\n",
    "Task: Replace all NaN values in the matrix `x` with 0.\n",
    "\n",
    "Desired output: \n",
    "\n",
    "`[[ 8. 24. 67.]\n",
    " [87. 79.  0.]\n",
    " [10.  0. 52.]\n",
    " [ 0. 53. 66.]]`"
   ]
  },
  {
   "cell_type": "code",
   "execution_count": 6,
   "metadata": {},
   "outputs": [],
   "source": [
    "# do not modify\n",
    "np.random.seed(100)\n",
    "x = np.random.randint(100,size = 12).reshape(4,3).astype('float')\n",
    "row = np.array([1, 2, 3])\n",
    "col = np.array([2, 1, 0])\n",
    "x[row, col] = np.nan"
   ]
  },
  {
   "cell_type": "code",
   "execution_count": null,
   "metadata": {},
   "outputs": [],
   "source": []
  },
  {
   "cell_type": "markdown",
   "metadata": {},
   "source": [
    "Exercise 15:\n",
    "\n",
    "Task: Use a list comprehension to turn the string into a list of letters.\n",
    "\n",
    "Desired output: \n",
    "\n",
    "`['a' 'b' 'c' 'd' 'e' 'f' 'g' 'h' 'i' 'j' 'k' 'l' 'm' 'n' 'o' 'p' 'q' 'r'\n",
    " 's' 't' 'u' 'v' 'w' 'x' 'y' 'z']`"
   ]
  },
  {
   "cell_type": "code",
   "execution_count": 7,
   "metadata": {},
   "outputs": [],
   "source": [
    "# do not modify\n",
    "letters = 'abcdefghijklmnopqrstuvwxyz'"
   ]
  },
  {
   "cell_type": "code",
   "execution_count": null,
   "metadata": {},
   "outputs": [],
   "source": []
  },
  {
   "cell_type": "markdown",
   "metadata": {},
   "source": [
    "Exercise 16:\n",
    "\n",
    "Task: Empirically test out the central limit theorem.\n",
    "\n",
    "- Create an empty list `sample_means_n16`\n",
    "- Create a loop that will perform 1000 iterations\n",
    "- Within each loop draw a random sample of 16 values from the normal distribution with mean 100 and sd 20\n",
    "- Calculate the mean of your random sample and append the new value to `sample_means_n16`\n",
    "- See that the mean of the sample means is close to the population mean and that the sd of the sample means is approx sigma/sqrt(n)\n",
    "\n",
    "- see if you can make the loop with only one line of code\n",
    "\n",
    "Desired output: (you answers may vary)\n",
    "\n",
    "`100.07429950480352\n",
    "5.0548725387880635`"
   ]
  },
  {
   "cell_type": "code",
   "execution_count": 8,
   "metadata": {},
   "outputs": [],
   "source": [
    "np.random.seed(5)\n",
    "sample_means_n16 = []"
   ]
  },
  {
   "cell_type": "code",
   "execution_count": null,
   "metadata": {},
   "outputs": [],
   "source": []
  },
  {
   "cell_type": "markdown",
   "metadata": {},
   "source": [
    "Exercise 17:\n",
    "\n",
    "Task: Do the same thing, but with a list comprehension\n",
    "\n",
    "- Using a list comprehension, create `sample_means_n16`\n",
    "- The list will contain 1000 sample means. Each value mean is the sample mean of a random sample of 16 values from the normal distribution with mean 100 and sd 20\n",
    "- See that the mean of the sample means is close to the population mean and that the sd of the sample means is approx sigma/sqrt(n)\n",
    "\n",
    "Desired output: (you answers may vary)\n",
    "\n",
    "`100.07429950480352\n",
    "5.0548725387880635`"
   ]
  },
  {
   "cell_type": "code",
   "execution_count": 9,
   "metadata": {},
   "outputs": [],
   "source": [
    "np.random.seed(5)\n"
   ]
  },
  {
   "cell_type": "code",
   "execution_count": null,
   "metadata": {},
   "outputs": [],
   "source": []
  },
  {
   "cell_type": "markdown",
   "metadata": {},
   "source": [
    "Exercise 18:\n",
    "\n",
    "Task: Use a list comprehension. Go through the provided text. In the list, store how many words are in each sentence. hint: find sentences by splitting on the period punctuation, and then find words by splitting on space.\n",
    "\n",
    "Desired output:\n",
    "\n",
    "`[9, 8, 11, 12, 4, 8, 26]`"
   ]
  },
  {
   "cell_type": "code",
   "execution_count": 10,
   "metadata": {},
   "outputs": [],
   "source": [
    "# do not modify\n",
    "text = '''California is a state in the western United \n",
    "States. It is the third largest state in size. It is \n",
    "the state with the most people living in it. Largest \n",
    "cities are Los Angeles, San Diego, San Jose, and San \n",
    "Francisco. The capital is Sacramento. It became a \n",
    "state on September 9, 1850. It is bordered by Arizona \n",
    "to the southeast, Oregon to the north, Nevada to the \n",
    "east and the Mexican state of Baja California to the \n",
    "south.'''"
   ]
  },
  {
   "cell_type": "code",
   "execution_count": null,
   "metadata": {},
   "outputs": [],
   "source": []
  }
 ],
 "metadata": {
  "kernelspec": {
   "display_name": "Python 3",
   "language": "python",
   "name": "python3"
  },
  "language_info": {
   "codemirror_mode": {
    "name": "ipython",
    "version": 3
   },
   "file_extension": ".py",
   "mimetype": "text/x-python",
   "name": "python",
   "nbconvert_exporter": "python",
   "pygments_lexer": "ipython3",
   "version": "3.6.8"
  }
 },
 "nbformat": 4,
 "nbformat_minor": 2
}
